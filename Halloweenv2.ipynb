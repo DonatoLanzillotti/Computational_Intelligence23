{
 "cells": [
  {
   "cell_type": "code",
   "execution_count": 246,
   "metadata": {},
   "outputs": [],
   "source": [
    "from random import random, choice, randint\n",
    "from functools import reduce\n",
    "from collections import namedtuple\n",
    "from queue import PriorityQueue, SimpleQueue, LifoQueue\n",
    "from copy import copy\n",
    "\n",
    "\n",
    "import numpy as np"
   ]
  },
  {
   "cell_type": "code",
   "execution_count": 247,
   "metadata": {},
   "outputs": [],
   "source": [
    "PROBLEM_SIZE = 5000\n",
    "NUM_SETS = 5000\n",
    "SETS = tuple(np.array([np.random.uniform(0,1) < 0.3 for _ in range(PROBLEM_SIZE)]) for _ in range(NUM_SETS))\n",
    "State = namedtuple('State', ['taken', 'not_taken'])"
   ]
  },
  {
   "cell_type": "code",
   "execution_count": 248,
   "metadata": {},
   "outputs": [],
   "source": [
    "def fitness(state):\n",
    "    cost = sum(state)\n",
    "    valid = np.sum(\n",
    "        reduce(\n",
    "            np.logical_or,\n",
    "            [SETS[i] for i, t in enumerate(state) if t],\n",
    "            np.array([False for _ in range(PROBLEM_SIZE)]),\n",
    "        )\n",
    "    )\n",
    "    return valid, -cost\n"
   ]
  },
  {
   "cell_type": "code",
   "execution_count": 249,
   "metadata": {},
   "outputs": [],
   "source": [
    "def tweak(state):\n",
    "    new_state = copy(state)\n",
    "    index = randint(0, PROBLEM_SIZE - 1)\n",
    "    new_state[index] = not new_state[index]\n",
    "    return new_state[index],new_state"
   ]
  },
  {
   "cell_type": "code",
   "execution_count": 250,
   "metadata": {},
   "outputs": [],
   "source": [
    "current_state = [choice([False, False, False, False, False, False]) for _ in range(NUM_SETS)]\n",
    "#print(fitness(current_state))\n",
    "cnt = 0\n",
    "fit_1 = 0\n",
    "fit_2 = 0\n",
    "\n",
    "for step in range(1000):\n",
    "    op,new_state = tweak(current_state)\n",
    "\n",
    "    if fit_1 == PROBLEM_SIZE and op == True:       #I am sure that my fitness function will increase\n",
    "        pass\n",
    "        #print('Ho passato,new state fitness:', fitness(new_state),op)\n",
    "    else:\n",
    "        cnt += 1\n",
    "        fit_new = fitness(new_state)\n",
    "        #print(fit_new[0],fit_new[1])\n",
    "        #print(op, fit_1)\n",
    "        if fitness(new_state) >= fitness(current_state):\n",
    "          current_state = new_state\n",
    "          fit_1 = fit_new[0]\n",
    "          fit_2 = fit_new[1]\n",
    "          #print('new solution fitness:',fitness(new_state))"
   ]
  },
  {
   "cell_type": "code",
   "execution_count": 251,
   "metadata": {},
   "outputs": [
    {
     "name": "stdout",
     "output_type": "stream",
     "text": [
      "Number of fitness call: 27\n"
     ]
    }
   ],
   "source": [
    "print('Number of fitness call:',cnt)"
   ]
  },
  {
   "cell_type": "code",
   "execution_count": 252,
   "metadata": {},
   "outputs": [
    {
     "name": "stdout",
     "output_type": "stream",
     "text": [
      "(5000, -20)\n"
     ]
    }
   ],
   "source": [
    "print(fitness(current_state))"
   ]
  },
  {
   "cell_type": "code",
   "execution_count": null,
   "metadata": {},
   "outputs": [],
   "source": []
  }
 ],
 "metadata": {
  "kernelspec": {
   "display_name": "vir_env",
   "language": "python",
   "name": "python3"
  },
  "language_info": {
   "codemirror_mode": {
    "name": "ipython",
    "version": 3
   },
   "file_extension": ".py",
   "mimetype": "text/x-python",
   "name": "python",
   "nbconvert_exporter": "python",
   "pygments_lexer": "ipython3",
   "version": "3.10.7"
  }
 },
 "nbformat": 4,
 "nbformat_minor": 2
}
