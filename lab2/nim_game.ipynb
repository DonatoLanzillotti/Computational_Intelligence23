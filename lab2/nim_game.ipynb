{
 "cells": [
  {
   "cell_type": "code",
   "execution_count": 17,
   "metadata": {},
   "outputs": [],
   "source": [
    "#Exploiting ES to solve the nim-game problem\n",
    "#Among the different rules (strategies) that can be used, it is known that the optimal one will lead to the victory. \n",
    "#The idea is to assign a probability to each rule and then after a random extraction\n",
    "#decide which one must be used.\n",
    "#We expect that at the end the optimal one will achieve a probability of 1 to be used.\n",
    "\n",
    "#STRATEGIES\n",
    "#pure random\n",
    "#gabriele\n",
    "#donato\n",
    "#optimal (nim-sum based)\n",
    "#starting solution --> 0.25 probability to use each rule"
   ]
  },
  {
   "cell_type": "code",
   "execution_count": 18,
   "metadata": {},
   "outputs": [],
   "source": [
    "from pprint import pprint, pformat\n",
    "from collections import namedtuple\n",
    "from copy import deepcopy\n",
    "from tqdm.notebook import tqdm\n",
    "import matplotlib.pyplot as plt\n",
    "import numpy as np\n",
    "import random\n",
    "import copy\n",
    "import logging"
   ]
  },
  {
   "cell_type": "markdown",
   "metadata": {},
   "source": [
    "The game is based on the class Nim which saves the state of the current game"
   ]
  },
  {
   "cell_type": "code",
   "execution_count": 19,
   "metadata": {},
   "outputs": [],
   "source": [
    "Nimply = namedtuple(\"Nimply\", \"row, num_objects\")\n",
    "\n",
    "class Nim:\n",
    "    def __init__(self, num_rows: int, k: int = None) -> None:\n",
    "        self._rows = [i * 2 + 1 for i in range(num_rows)]   # list of the rows' content start with odd numbers\n",
    "        self._k = k     # if k is none then no limit on picks\n",
    "\n",
    "    def __bool__(self):\n",
    "        return sum(self._rows) > 0  # if any row still has anything left, return true\n",
    "\n",
    "    def __str__(self):\n",
    "        return \"<\" + \" \".join(str(_) for _ in self._rows) + \">\"     # D\n",
    "\n",
    "    @property\n",
    "    def rows(self) -> tuple:    # property getter,  you call .rows not .rows()\n",
    "        return tuple(self._rows)    # returns a TUPLE with number of objects for each row \n",
    "\n",
    "    def nimming(self, ply: Nimply) -> None:     # represent making a move in the game, the paramter is the tuple (row, numbOfObj)\n",
    "        row, num_objects = ply      \n",
    "        assert self._rows[row] >= num_objects       # there are enough objects in the specified row to remove \n",
    "        assert self._k is None or num_objects <= self._k    # the numb of obj to remove does not exceed k \n",
    "        self._rows[row] -= num_objects  \n"
   ]
  },
  {
   "cell_type": "markdown",
   "metadata": {},
   "source": [
    "#### How we can make a move (ply)"
   ]
  },
  {
   "cell_type": "code",
   "execution_count": 20,
   "metadata": {},
   "outputs": [],
   "source": [
    "## To make a move (Nimply) it is possible to use different strategies\n",
    "def pure_random(state: Nim) -> Nimply:\n",
    "    \"\"\"A completely random move\"\"\"\n",
    "    row = random.choice([r for r, c in enumerate(state.rows) if c > 0])     # select a random row if it has more than 0 obj\n",
    "    num_objects = random.randint(1, state.rows[row])    # select a random number of obj to remove from the row (both extremes included btw)\n",
    "    return Nimply(row, num_objects)\n",
    "\n",
    "def gabriele(state: Nim) -> Nimply: \n",
    "    \"\"\"Pick always the maximum possible number of the lowest row\"\"\"\n",
    "    possible_moves = [(r, o) for r, c in enumerate(state.rows) for o in range(1, c + 1)]\n",
    "    # first generates a list of all possible moves (r, o) where o ranges from 1 to all the obj in that row\n",
    "    return Nimply(*max(possible_moves, key=lambda m: (-m[0], m[1])))\n",
    "    # sorts the moves by ascending row index and descending numb of objects and picks the max\n",
    "    # the * is used to unpack the result of the max, which in this case returns a tuple of row, numObj\n",
    "    # and then it is passed as a sequence of arguments to Nimply constructor\n",
    "\n",
    "def donato(state: Nim) -> Nimply:\n",
    "    \"\"\"Pick always the maximum possible number of the highest row\"\"\"\n",
    "    possible_moves = [(r, o) for r, c in enumerate(state.rows) for o in range(1, c + 1)]\n",
    "    # first generates a list of all possible moves (r, o) where o ranges from 1 to all the obj in that row\n",
    "    return Nimply(*max(possible_moves, key=lambda m: (m[0], m[1])))\n",
    "\n",
    "def nim_sum(state: Nim) -> int: # calculates a binary XOR of all the heaps' sizes represented in binary\n",
    "    # when the nim-sum is 0 the player can force a win\n",
    "    tmp = np.array([tuple(int(x) for x in f\"{c:032b}\") for c in state.rows])   # converts each c in binary then as a set of tuples of integers\n",
    "    xor = tmp.sum(axis=0) % 2   # ???\n",
    "    return int(\"\".join(str(_) for _ in xor), base=2)    # profit\n",
    "\n",
    "def analize(raw: Nim) -> dict:  \n",
    "    '''Analyze all possible moves from the current game state and calculate nim-sum'''\n",
    "    cooked = dict()\n",
    "    cooked[\"possible_moves\"] = dict()   # creates a dictionary inside the dictionary\n",
    "                # selects all possible moves (ply)\n",
    "    for ply in (Nimply(r, o) for r, c in enumerate(raw.rows) for o in range(1, c + 1)):\n",
    "        # note that if the row is empty (c = 0), range will not produce anything beucase start=stop and stop is not included!\n",
    "        tmp = deepcopy(raw)\n",
    "        tmp.nimming(ply)    # applies the move to a copy of the state (raw)\n",
    "        cooked[\"possible_moves\"][ply] = nim_sum(tmp)    # computes nim-sum and associated and saves it in the dictionary\n",
    "    return cooked\n",
    "\n",
    "#nim-sum based solution \n",
    "#the optimal one has been changed \n",
    "def optimal(state: Nim) -> Nimply:\n",
    "    analysis = analize(state)\n",
    "    logging.debug(f\"analysis:\\n{pformat(analysis)}\")\n",
    "    spicy_moves = [ply for ply, ns in analysis[\"possible_moves\"].items() if ns == 0]\n",
    "    #if sum of heaps with size 1 is even -- change because I want them to be odd\n",
    "    if not spicy_moves:\n",
    "        spicy_moves = list(analysis[\"possible_moves\"].keys())\n",
    "    ply = random.choice(spicy_moves)\n",
    "    num_1_before = sum([e == 1 for e in state.rows])\n",
    "    row, num_objects = ply\n",
    "    new_state = copy.deepcopy(state)\n",
    "    new_state._rows[row] -= num_objects\n",
    "    rows_0or1 = sum([e == 0 or e == 1 for e in new_state.rows])\n",
    "    rows_1 = sum([e == 1 for e in new_state.rows])\n",
    "    if rows_0or1 == len(new_state.rows) and rows_1 % 2 == 0 and sum(state.rows) > 1:\n",
    "       new_ply = copy.deepcopy(ply)\n",
    "       if num_1_before % 2 == 0:\n",
    "           if ply[1] - 1 != 0:\n",
    "            new_ply = (ply[0], ply[1] - 1)\n",
    "       else:\n",
    "           if ply[1] + 1 <= state.rows[ply[0]]:\n",
    "            new_ply = (ply[0], ply[1] + 1)\n",
    "       return new_ply\n",
    "\n",
    "    return ply"
   ]
  },
  {
   "cell_type": "markdown",
   "metadata": {},
   "source": [
    "# SINGLE MATCH\n"
   ]
  },
  {
   "cell_type": "code",
   "execution_count": 21,
   "metadata": {},
   "outputs": [
    {
     "name": "stderr",
     "output_type": "stream",
     "text": [
      "INFO:root:init : <1 3 5 7 9>\n",
      "INFO:root:ply: player 0 plays Nimply(row=4, num_objects=9)\n",
      "INFO:root:status: <1 3 5 7 0>\n",
      "INFO:root:ply: player 1 plays Nimply(row=3, num_objects=7)\n",
      "INFO:root:status: <1 3 5 0 0>\n",
      "INFO:root:ply: player 0 plays Nimply(row=2, num_objects=3)\n",
      "INFO:root:status: <1 3 2 0 0>\n",
      "INFO:root:ply: player 1 plays Nimply(row=2, num_objects=2)\n",
      "INFO:root:status: <1 3 0 0 0>\n",
      "INFO:root:ply: player 0 plays (1, 3)\n",
      "INFO:root:status: <1 0 0 0 0>\n",
      "INFO:root:ply: player 1 plays Nimply(row=0, num_objects=1)\n",
      "INFO:root:status: <0 0 0 0 0>\n",
      "INFO:root:status: Player 0 won!\n"
     ]
    }
   ],
   "source": [
    "logging.getLogger().setLevel(logging.INFO)\n",
    "\n",
    "strategy = (optimal, donato)\n",
    "\n",
    "nim = Nim(5)\n",
    "logging.info(f\"init : {nim}\")\n",
    "player = 0\n",
    "while nim:\n",
    "    ply = strategy[player](nim)\n",
    "    logging.info(f\"ply: player {player} plays {ply}\")\n",
    "    nim.nimming(ply)\n",
    "    logging.info(f\"status: {nim}\")\n",
    "    player = 1 - player\n",
    "logging.info(f\"status: Player {player} won!\")\n"
   ]
  },
  {
   "cell_type": "markdown",
   "metadata": {},
   "source": [
    "# SOME STATISTICS\n",
    "The idea is to analyze how much the gabriele and donato strategies are better than the pure_random one."
   ]
  },
  {
   "cell_type": "code",
   "execution_count": 22,
   "metadata": {},
   "outputs": [],
   "source": [
    "logging.getLogger().setLevel(logging.INFO)\n",
    "\n",
    "succ_gabriele = 0\n",
    "\n",
    "strategy = (gabriele, pure_random)\n",
    "for _ in range(1000):                    #100 games\n",
    "    cnt = 0\n",
    "    nim = Nim(5)\n",
    "    #logging.info(f\"init : {nim}\")\n",
    "    player = 0\n",
    "    while nim:\n",
    "        cnt += 1\n",
    "        ply = strategy[player](nim)\n",
    "        #logging.info(f\"ply: player {player} plays {ply}\")\n",
    "        nim.nimming(ply)\n",
    "        #logging.info(f\"status: {nim}\")\n",
    "        player = 1 - player\n",
    "    #logging.info(f\"status: Player {player} won!\")\n",
    "    if player == 0:\n",
    "        succ_gabriele +=1\n",
    "\n",
    "succ_donato = 0\n",
    "strategy = (donato, pure_random)\n",
    "for _ in range(1000):                    #1000 games\n",
    "    cnt = 0\n",
    "    nim = Nim(5)\n",
    "    #logging.info(f\"init : {nim}\")\n",
    "    player = 0\n",
    "    while nim:\n",
    "        cnt += 1\n",
    "        ply = strategy[player](nim)\n",
    "     #   logging.info(f\"ply: player {player} plays {ply}\")\n",
    "        nim.nimming(ply)\n",
    "      #  logging.info(f\"status: {nim}\")\n",
    "        player = 1 - player\n",
    "    #logging.info(f\"status: Player {player} won!\")\n",
    "    if player == 0:\n",
    "        succ_donato +=1"
   ]
  },
  {
   "cell_type": "code",
   "execution_count": 23,
   "metadata": {},
   "outputs": [
    {
     "data": {
      "image/png": "[encoded data removed]",
      "text/plain": [
       "<Figure size 1000x500 with 2 Axes>"
      ]
     },
     "metadata": {},
     "output_type": "display_data"
    }
   ],
   "source": [
    "import matplotlib.pyplot as plt\n",
    "\n",
    "#pie chart: gabriele vs random\n",
    "labels1 = ['gabriele', 'pure_random']\n",
    "sizes1 = [succ_gabriele, 1000 - succ_gabriele]\n",
    "\n",
    "#pie chart: donato vs random\n",
    "labels2 = ['donato', 'pure_random']\n",
    "sizes2 = [succ_donato, 1000 - succ_donato]\n",
    "\n",
    "\n",
    "fig, axs = plt.subplots(1, 2, figsize=(10, 5))\n",
    "axs[0].pie(sizes1, labels=labels1, autopct='%1.1f%%', startangle=90)\n",
    "axs[0].set_title('Gabriele vs pure_random')\n",
    "\n",
    "axs[1].pie(sizes2, labels=labels2, autopct='%1.1f%%', startangle=90)\n",
    "axs[1].set_title('Donato vs pure_random')\n",
    "\n",
    "\n",
    "plt.tight_layout()\n",
    "\n",
    "# Display the subplot\n",
    "plt.show()\n"
   ]
  },
  {
   "cell_type": "markdown",
   "metadata": {},
   "source": [
    "Thanks to the graph it is possible to notice how the 'donato' strategy works better against a pure_random player. Even if in both cases plays pure randomly is the better choice.\n",
    "The optimal is not considered for obvious reasons."
   ]
  },
  {
   "cell_type": "markdown",
   "metadata": {},
   "source": [
    "# NIM GAME EVOLUTION STRATEGY"
   ]
  },
  {
   "cell_type": "code",
   "execution_count": 24,
   "metadata": {},
   "outputs": [],
   "source": [
    "def normalize(strategies: dict):\n",
    "    \"\"\"Needed to normalize the values of the dictionary so that they sum to one.\"\"\"\n",
    "    total = 0\n",
    "\n",
    "    for v in strategies.values():\n",
    "        total += v\n",
    "\n",
    "    for k, v in strategies.items():\n",
    "        # this is the actual normalization\n",
    "        strategies[k] = v / total\n",
    "\n",
    "    return strategies\n",
    "\n",
    "\n",
    "def select_strategy(strategies):\n",
    "    '''Select a strategy depending on the weights. Returns the index of the selected strategy.'''\n",
    "    num = random.uniform(0, 1)\n",
    "    cumulative_value = 0\n",
    "\n",
    "    # for strat, prob in strategies.items():\n",
    "    #     cumulative_value += prob\n",
    "    #     if num < cumulative_value:\n",
    "    #         return strat\n",
    "        \n",
    "    for ind, prob in enumerate(strategies):\n",
    "        cumulative_value += prob\n",
    "        if num < cumulative_value:\n",
    "            return ind\n",
    "    \n",
    "\n",
    "\n",
    "# print(select_strategy(strategies))\n",
    "# logging.getLogger().setLevel(logging.INFO)"
   ]
  },
  {
   "cell_type": "code",
   "execution_count": 25,
   "metadata": {},
   "outputs": [],
   "source": [
    "def eval(strategies):\n",
    "    successes = 0\n",
    "    num_iter = 50\n",
    "    player1_prob = [0.15, 0.2, 0.2, 0.45]\n",
    "    player1_strat_index = 0\n",
    "    \n",
    "    for _ in range(num_iter):\n",
    "        nim = Nim(5)   # initialize new game with 5 rows\n",
    "        # print(f\"RUN: {_}\")\n",
    "        # logging.info(f\"init : {nim}\")   # automatically calls the str\n",
    "        player = 0  # starting player is assumed to be 0, remember that the starting player is disadvantaged\n",
    "        if player == 1:\n",
    "            player1_strat_index = select_strategy(player1_prob)\n",
    "            \n",
    "        while nim:  # calls the bool\n",
    "            # both player know all the possible strategies\n",
    "            if player == 0: \n",
    "                strategy = select_strategy(strategies) \n",
    "                #print(f\"Using the strategy: {strategy}\")\n",
    "                if strategy == 0:\n",
    "                    ply = pure_random(nim)\n",
    "                elif strategy == 1:\n",
    "                    ply = gabriele(nim)\n",
    "                elif strategy == 2:\n",
    "                    ply = donato(nim)\n",
    "                elif strategy == 3:\n",
    "                    ply = optimal(nim)\n",
    "            else:\n",
    "                if player1_strat_index == 0:\n",
    "                    ply = pure_random(nim)\n",
    "                elif player1_strat_index == 1:\n",
    "                  ply = gabriele(nim)\n",
    "                elif player1_strat_index == 2:\n",
    "                    ply = donato(nim)\n",
    "                elif player1_strat_index == 3:\n",
    "                    ply = optimal(nim)\n",
    "            \n",
    "            nim.nimming(ply)    # apply the move\n",
    "            \n",
    "            # logging.info(f\"Player {player} picks {ply}\")   \n",
    "            # logging.info(f\"Status: {nim}\")  # string with rows and numb of objects remaining\n",
    "            \n",
    "            player = 1 - player\n",
    "            \n",
    "        # logging.info(f\"status: Player {player} won!\")\n",
    "        if player == 0:  # it means that I win (player 0)\n",
    "            successes += 1\n",
    "            \n",
    "        # print(f\"Percentage of wins by player 0: {successes/num_iter}\")\n",
    "    return successes / num_iter"
   ]
  },
  {
   "cell_type": "code",
   "execution_count": 26,
   "metadata": {},
   "outputs": [
    {
     "data": {
      "application/vnd.jupyter.widget-view+json": {
       "model_id": "ee66a08a93994d008c43a8d8ab39d83c",
       "version_major": 2,
       "version_minor": 0
      },
      "text/plain": [
       "  0%|          | 0/100 [00:00<?, ?it/s]"
      ]
     },
     "metadata": {},
     "output_type": "display_data"
    },
    {
     "name": "stdout",
     "output_type": "stream",
     "text": [
      "Best solution: {'pure_random': 0.0, 'gabriele': 0.0, 'donato': 0.0, 'optimal': 1.0}\n"
     ]
    },
    {
     "data": {
      "image/png": "[encoded data removed]",
      "text/plain": [
       "<Figure size 1400x400 with 1 Axes>"
      ]
     },
     "metadata": {},
     "output_type": "display_data"
    }
   ],
   "source": [
    "λ = 10  # number of offsprings\n",
    "σ = 0.1  # std dev initial value\n",
    "N_STRATEGIES = 4\n",
    "N_DIM = N_STRATEGIES\n",
    "\n",
    "# Initialize strategies with equal probabilities\n",
    "strategies = {\n",
    "    \"pure_random\": 0.25,\n",
    "    \"gabriele\": 0.25,\n",
    "    \"donato\": 0.25,\n",
    "    \"optimal\": 0.25\n",
    "}\n",
    "\n",
    "solution = np.array(\n",
    "    list(strategies.values())\n",
    ")  # convert strategies to an array for processing\n",
    "\n",
    "history = []\n",
    "best_so_far = solution.copy()\n",
    "best_fitness = eval(best_so_far)\n",
    "\n",
    "for step in tqdm(range(1000 // λ)):\n",
    "    offspring = (\n",
    "        np.random.normal(loc=0, scale=σ, size=(λ, N_DIM)) + solution\n",
    "    )  # creating new solutions\n",
    "    offspring = np.clip(offspring, 0, 1)  # Ensuring probabilities stay within [0, 1]\n",
    "    offspring /= offspring.sum(axis=1)[:, np.newaxis]  # normalize offspring to sum to 1\n",
    "\n",
    "    # evaluate offspring and select the best one\n",
    "    fitness = np.array([eval(s) for s in offspring])\n",
    "    best_offspring = offspring[np.argmax(fitness)]\n",
    "    best_offspring_fitness = np.max(fitness)\n",
    "\n",
    "    # update the current solution if the offspring is better\n",
    "    if best_offspring_fitness > best_fitness:\n",
    "        best_so_far = best_offspring.copy()\n",
    "        best_fitness = best_offspring_fitness\n",
    "        solution = best_offspring  # Update the current solution to the new best\n",
    "        history.append((step, best_fitness))\n",
    "\n",
    "    # adapt sigma based on success rate\n",
    "    success_rate = np.mean(fitness > best_fitness)\n",
    "    if (step+1) % 25 == 0:\n",
    "        if success_rate < 1 / 5:\n",
    "            σ /= 1.1\n",
    "        elif success_rate > 1 / 5:\n",
    "            σ *= 1.1\n",
    "\n",
    "# Convert the best solution back to a dictionary\n",
    "best_strategy_probabilities = dict(zip(strategies.keys(), best_so_far))\n",
    "\n",
    "# Logging the best solution\n",
    "print(f\"Best solution: {best_strategy_probabilities}\")\n",
    "\n",
    "# Plotting the history of best solutions\n",
    "\n",
    "history = np.array(history)\n",
    "plt.figure(figsize=(14, 4))\n",
    "plt.plot(history[:, 0], history[:, 1], marker=\".\")\n",
    "plt.show()"
   ]
  },
  {
   "cell_type": "code",
   "execution_count": null,
   "metadata": {},
   "outputs": [],
   "source": []
  }
 ],
 "metadata": {
  "kernelspec": {
   "display_name": "Python 3",
   "language": "python",
   "name": "python3"
  },
  "language_info": {
   "codemirror_mode": {
    "name": "ipython",
    "version": 3
   },
   "file_extension": ".py",
   "mimetype": "text/x-python",
   "name": "python",
   "nbconvert_exporter": "python",
   "pygments_lexer": "ipython3",
   "version": "3.10.7"
  }
 },
 "nbformat": 4,
 "nbformat_minor": 2
}
