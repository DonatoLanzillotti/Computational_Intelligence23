{
 "cells": [
  {
   "cell_type": "code",
   "execution_count": 7,
   "metadata": {},
   "outputs": [],
   "source": [
    "from random import random, choice, randint\n",
    "from functools import reduce\n",
    "from collections import namedtuple\n",
    "from queue import PriorityQueue, SimpleQueue, LifoQueue\n",
    "from copy import copy\n",
    "\n",
    "\n",
    "import numpy as np"
   ]
  },
  {
   "cell_type": "code",
   "execution_count": 8,
   "metadata": {},
   "outputs": [],
   "source": [
    "PROBLEM_SIZE = 1000\n",
    "NUM_SETS = 1000\n",
    "np.random.seed(42)\n",
    "SETS = tuple(np.array([np.random.uniform(0,1) < 0.3 for _ in range(PROBLEM_SIZE)]) for _ in range(NUM_SETS))\n",
    "State = namedtuple('State', ['taken', 'not_taken'])"
   ]
  },
  {
   "cell_type": "code",
   "execution_count": 9,
   "metadata": {},
   "outputs": [],
   "source": [
    "def fitness(state):\n",
    "    cost = sum(state)\n",
    "    valid = np.sum(\n",
    "        reduce(\n",
    "            np.logical_or,\n",
    "            [SETS[i] for i, t in enumerate(state) if t],\n",
    "            np.array([False for _ in range(PROBLEM_SIZE)]),\n",
    "        )\n",
    "    )\n",
    "    return valid, -cost\n",
    "\n"
   ]
  },
  {
   "cell_type": "code",
   "execution_count": 10,
   "metadata": {},
   "outputs": [],
   "source": [
    "def tweak_intensification(state):\n",
    "    new_state = copy(state)\n",
    "    index = randint(0, PROBLEM_SIZE - 1)\n",
    "    new_state[index] = not new_state[index]\n",
    "    return new_state\n",
    "\n",
    "def tweak_diversification(state):\n",
    "    new_state = copy(state)\n",
    "    index1 = randint(0, PROBLEM_SIZE - 1)\n",
    "    new_state[index1] = not new_state[index1]\n",
    "    index2 = randint(0, PROBLEM_SIZE - 1)\n",
    "    new_state[index2] = not new_state[index2]\n",
    "    return new_state"
   ]
  },
  {
   "cell_type": "code",
   "execution_count": 11,
   "metadata": {},
   "outputs": [
    {
     "name": "stdout",
     "output_type": "stream",
     "text": [
      "(0, 0)\n",
      "(334, -1)\n",
      "(533, -2)\n",
      "(677, -3)\n",
      "(772, -4)\n",
      "(842, -5)\n",
      "(885, -6)\n",
      "(919, -7)\n",
      "(936, -8)\n",
      "(949, -9)\n",
      "(967, -10)\n",
      "(979, -11)\n",
      "(985, -12)\n",
      "(989, -13)\n",
      "(991, -14)\n",
      "(994, -15)\n",
      "(997, -16)\n",
      "(998, -17)\n",
      "(999, -18)\n",
      "(1000, -19)\n",
      "(1000, -18)\n",
      "(1000, -17)\n",
      "(1000, -16)\n",
      "cnt: 265\n",
      "(1000, -15)\n",
      "cnt: 575\n"
     ]
    }
   ],
   "source": [
    "current_state = [choice([False, False, False, False, False, False]) for _ in range(NUM_SETS)]\n",
    "print(fitness(current_state))\n",
    "\n",
    "no_impro_cnt = 0\n",
    "local_opt = [False]*10\n",
    "cnt = 0\n",
    "\n",
    "for step in range(10_000):\n",
    "    new_state = tweak_intensification(current_state)\n",
    "    cnt += 1\n",
    "    if fitness(new_state) >= fitness(current_state):\n",
    "        current_state = new_state\n",
    "        no_impro_cnt = 0\n",
    "        print(fitness(current_state))\n",
    "    else:\n",
    "        no_impro_cnt += 1\n",
    "    if no_impro_cnt == 100:  #I considered 10 solutions starting from the actual state and I am not able to improve\n",
    "        cnt +=1\n",
    "        if fitness(current_state) > fitness(local_opt):  \n",
    "            local_opt = current_state \n",
    "            print('cnt:',cnt)                           #printing it I can have track about the last time that a local optimum\n",
    "        new_state = tweak_diversification(current_state)   #was better than the previous one\n",
    "        no_impro_cnt = 0"
   ]
  },
  {
   "cell_type": "code",
   "execution_count": 12,
   "metadata": {},
   "outputs": [
    {
     "data": {
      "text/plain": [
       "10098"
      ]
     },
     "execution_count": 12,
     "metadata": {},
     "output_type": "execute_result"
    }
   ],
   "source": [
    "cnt"
   ]
  }
 ],
 "metadata": {
  "kernelspec": {
   "display_name": "vir_env",
   "language": "python",
   "name": "python3"
  },
  "language_info": {
   "codemirror_mode": {
    "name": "ipython",
    "version": 3
   },
   "file_extension": ".py",
   "mimetype": "text/x-python",
   "name": "python",
   "nbconvert_exporter": "python",
   "pygments_lexer": "ipython3",
   "version": "3.10.7"
  }
 },
 "nbformat": 4,
 "nbformat_minor": 2
}
